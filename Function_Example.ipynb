{
  "nbformat": 4,
  "nbformat_minor": 0,
  "metadata": {
    "colab": {
      "name": "Function_Example.ipynb",
      "provenance": [],
      "authorship_tag": "ABX9TyPvm0s1LkAcwcar8hN2lO0K"
    },
    "kernelspec": {
      "name": "python3",
      "display_name": "Python 3"
    },
    "language_info": {
      "name": "python"
    }
  },
  "cells": [
    {
      "cell_type": "markdown",
      "source": [
        "### Create a function\n",
        "Define a function called `word_count` that takes in an argument called (document) which is a string and outputs an integer (their word count)."
      ],
      "metadata": {
        "id": "tfMOKlL9K8gc"
      }
    },
    {
      "cell_type": "code",
      "source": [
        "def word_count(document: str) -> int:\n",
        "    \"\"\"\n",
        "    Counts the number of words in a string. \n",
        "\n",
        "    The purpose of this function is to count the number of words \n",
        "    (as defined by separation by spaces) in any string. \n",
        "\n",
        "    Parameters\n",
        "    ----------\n",
        "    document: str\n",
        "      A string representing a single document. \n",
        "  \n",
        "    Returns\n",
        "    -------\n",
        "    words: int\n",
        "      The number of words in `document`\n",
        "\n",
        "    Raises\n",
        "    ------\n",
        "    ValueError\n",
        "      If `words` contains zero words, an error is raised to help the user.\n",
        "\n",
        "    \"\"\"\n",
        "\n",
        "    # Split the document by spaces and count the number of elements in that list\n",
        "    words = len(document.split())\n",
        "\n",
        "    # If they are zero words \n",
        "    if words == 0:\n",
        "      # raise an error \n",
        "      raise ValueError(\"Words must contain at least one word!\")\n",
        "    \n",
        "    return words\n"
      ],
      "metadata": {
        "id": "5q2kOhXBLAXh"
      },
      "execution_count": 3,
      "outputs": []
    },
    {
      "cell_type": "markdown",
      "source": [
        "### Run the function "
      ],
      "metadata": {
        "id": "pcG-7CWcLAc3"
      }
    },
    {
      "cell_type": "code",
      "source": [
        "# Create a string \n",
        "myname = \"My name is Ali Almalki. I am the best Data Scientist on the planet!!\"\n",
        "# Run `word_count` function\n",
        "word_count(myname)"
      ],
      "metadata": {
        "colab": {
          "base_uri": "https://localhost:8080/"
        },
        "id": "UucvtJFANFnK",
        "outputId": "df5ae7a2-6d59-422c-a55d-8e4699895987"
      },
      "execution_count": 4,
      "outputs": [
        {
          "output_type": "execute_result",
          "data": {
            "text/plain": [
              "14"
            ]
          },
          "metadata": {},
          "execution_count": 4
        }
      ]
    },
    {
      "cell_type": "code",
      "source": [],
      "metadata": {
        "id": "Zw8U122nNFvD"
      },
      "execution_count": null,
      "outputs": []
    }
  ]
}